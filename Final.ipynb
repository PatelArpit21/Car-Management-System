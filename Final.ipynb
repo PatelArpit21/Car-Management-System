{
 "cells": [
  {
   "cell_type": "code",
   "execution_count": null,
   "id": "4e8ab423-2cfd-434f-8ac5-55b815c0e1a9",
   "metadata": {},
   "outputs": [
    {
     "name": "stdout",
     "output_type": "stream",
     "text": [
      "Welcome to Car Dekho...\n",
      "1️⃣ Sign-up\n",
      "2️⃣ Sign-in\n",
      "3️⃣ Exit\n"
     ]
    },
    {
     "name": "stdin",
     "output_type": "stream",
     "text": [
      "Enter your choice :  2\n"
     ]
    },
    {
     "name": "stdout",
     "output_type": "stream",
     "text": [
      "Sign in processing\n"
     ]
    },
    {
     "name": "stdin",
     "output_type": "stream",
     "text": [
      "\n",
      "\n",
      "Enter your username:  Arpit\n",
      "Enter your password:  Arpit123\n"
     ]
    },
    {
     "name": "stdout",
     "output_type": "stream",
     "text": [
      "Password validated\n",
      "1️⃣ Buy car\n",
      "2️⃣ Sell car\n"
     ]
    },
    {
     "name": "stdin",
     "output_type": "stream",
     "text": [
      "Enter your choice :  1\n"
     ]
    },
    {
     "name": "stdout",
     "output_type": "stream",
     "text": [
      "Enter 1 to buy new car\n",
      "Enter 2 to buy used car\n"
     ]
    },
    {
     "name": "stdin",
     "output_type": "stream",
     "text": [
      "Enter your choice :  2\n"
     ]
    },
    {
     "name": "stdout",
     "output_type": "stream",
     "text": [
      "buying menu for used car\n",
      "Enter 1️ to view car in your budget\n",
      "Enter 2️ to view cars by category\n",
      "Enter 3️ to view cars by brand\n",
      "Enter 4 to buy a car\n",
      "Enter 5 to exit\n"
     ]
    },
    {
     "name": "stdin",
     "output_type": "stream",
     "text": [
      "Enter your choice :  1\n"
     ]
    },
    {
     "name": "stdout",
     "output_type": "stream",
     "text": [
      "budget\n"
     ]
    },
    {
     "name": "stdin",
     "output_type": "stream",
     "text": [
      "Enter your budget :  25000\n"
     ]
    },
    {
     "name": "stdout",
     "output_type": "stream",
     "text": [
      "======================================================================================================\n",
      "|  ID  |  Name  |  Brand   | Model Year | KM used | Price | Owners | Seating Capacity | Engine Power |\n",
      "======================================================================================================\n",
      "|1     |Civic   |Honda     |2015        |75000    |12000  |2       |5                 |143           |\n",
      "|2     |Corolla |Toyota    |2014        |82000    |11000  |2       |5                 |132           |\n",
      "|3     |Accord  |Honda     |2016        |68000    |14000  |1       |5                 |185           |\n",
      "|4     |Camry   |Toyota    |2015        |72000    |13000  |2       |5                 |178           |\n",
      "|5     |Elantra |Hyundai   |2013        |90000    |10000  |3       |5                 |148           |\n",
      "|6     |Sentra  |Nissan    |2012        |95000    |9000   |3       |5                 |130           |\n",
      "|7     |Jetta   |Volkswagen|2015        |70000    |11500  |2       |5                 |150           |\n",
      "|8     |Passat  |Volkswagen|2016        |65000    |12500  |2       |5                 |170           |\n",
      "|9     |3 Series|BMW       |2014        |78000    |17000  |1       |5                 |240           |\n",
      "|10    |C-Class |Mercedes-Benz|2015        |72000    |19000  |1       |5                 |241           |\n",
      "|12    |Altima  |Nissan    |2013        |88000    |10500  |3       |5                 |182           |\n",
      "|13    |Charger |Dodge     |2015        |77000    |18000  |2       |5                 |292           |\n",
      "|14    |Mustang |Ford      |2014        |60000    |17500  |1       |4                 |305           |\n",
      "|15    |Explorer|Ford      |2015        |72000    |20000  |1       |7                 |290           |\n",
      "|16    |RAV4    |Toyota    |2014        |82000    |15500  |2       |5                 |176           |\n",
      "|17    |CR-V    |Honda     |2015        |69000    |16000  |2       |5                 |185           |\n",
      "|18    |X5      |BMW       |2016        |75000    |25000  |1       |5                 |300           |\n",
      "|19    |Q5      |Audi      |2015        |79000    |23000  |2       |5                 |220           |\n",
      "|20    |Grand Cherokee|Jeep      |2014        |85000    |19000  |2       |5                 |290           |\n",
      "|21    |F-150   |Ford      |2016        |70000    |22000  |1       |5                 |325           |\n",
      "|22    |Silverado|Chevrolet |2015        |75000    |21000  |2       |5                 |285           |\n",
      "|23    |Ram 1500|Dodge     |2014        |90000    |20000  |3       |5                 |305           |\n",
      "|24    |CX-5    |Mazda     |2016        |67000    |17500  |2       |5                 |187           |\n",
      "|25    |Tucson  |Hyundai   |2015        |85000    |16500  |3       |5                 |164           |\n",
      "======================================================================================================\n",
      "Enter 1️ to view car in your budget\n",
      "Enter 2️ to view cars by category\n",
      "Enter 3️ to view cars by brand\n",
      "Enter 4 to buy a car\n",
      "Enter 5 to exit\n"
     ]
    },
    {
     "name": "stdin",
     "output_type": "stream",
     "text": [
      "Enter your choice :  4\n"
     ]
    },
    {
     "name": "stdout",
     "output_type": "stream",
     "text": [
      "choice 4\n"
     ]
    },
    {
     "name": "stdin",
     "output_type": "stream",
     "text": [
      "Enter id of car you want to buy :  2\n"
     ]
    },
    {
     "name": "stdout",
     "output_type": "stream",
     "text": [
      "======================================================================================================\n",
      "|  ID  |  Name  |  Brand   | Model Year | KM used | Price | Owners | Seating Capacity | Engine Power |\n",
      "======================================================================================================\n",
      "|2     |Corolla |Toyota    |2014        |82000    |11000  |2       |5                 |132           |\n",
      "======================================================================================================\n"
     ]
    },
    {
     "name": "stdin",
     "output_type": "stream",
     "text": [
      "Are you sure about buying this car :(Y/N) :  y\n"
     ]
    },
    {
     "name": "stdout",
     "output_type": "stream",
     "text": [
      "Congratulations on buying a new car\n",
      "Enter 1️ to view car in your budget\n",
      "Enter 2️ to view cars by category\n",
      "Enter 3️ to view cars by brand\n",
      "Enter 4 to buy a car\n",
      "Enter 5 to exit\n"
     ]
    },
    {
     "name": "stdin",
     "output_type": "stream",
     "text": [
      "Enter your choice :  5\n"
     ]
    },
    {
     "name": "stdout",
     "output_type": "stream",
     "text": [
      "exit\n",
      "1️⃣ Sign-up\n",
      "2️⃣ Sign-in\n",
      "3️⃣ Exit\n"
     ]
    },
    {
     "name": "stdin",
     "output_type": "stream",
     "text": [
      "Enter your choice :  1\n"
     ]
    },
    {
     "name": "stdout",
     "output_type": "stream",
     "text": [
      "sign up processing\n"
     ]
    },
    {
     "name": "stdin",
     "output_type": "stream",
     "text": [
      "\n",
      "\n",
      "Enter your userid:  3\n",
      "Create your password:  123\n",
      "Confirm your password:  123\n"
     ]
    },
    {
     "name": "stdout",
     "output_type": "stream",
     "text": [
      "Sign-up Successful\n"
     ]
    },
    {
     "name": "stdin",
     "output_type": "stream",
     "text": [
      "\n",
      "\n",
      "Enter your username:  3\n",
      "Enter your password:  123\n"
     ]
    },
    {
     "name": "stdout",
     "output_type": "stream",
     "text": [
      "Password validated\n",
      "1️⃣ Buy car\n",
      "2️⃣ Sell car\n"
     ]
    },
    {
     "name": "stdin",
     "output_type": "stream",
     "text": [
      "Enter your choice :  2\n"
     ]
    }
   ],
   "source": [
    "import users as user\n",
    "import cars as car\n",
    "class Main():\n",
    "    def __init__(self):\n",
    "        print('Welcome to Car Dekho...')\n",
    "        self.user_menu()\n",
    "        \n",
    "\n",
    "    def user_menu(self):\n",
    "        choice=0;\n",
    "        while(choice!=3):\n",
    "            print(\"1️⃣ Sign-up\")\n",
    "            print(\"2️⃣ Sign-in\")\n",
    "            print(\"3️⃣ Exit\")\n",
    "            choice=int(input('Enter your choice : '))\n",
    "            if choice==1:\n",
    "                print('sign up processing')\n",
    "                self.sign_up()\n",
    "            elif choice==2:\n",
    "                print('Sign in processing')\n",
    "                self.sign_in()\n",
    "            elif choice==3:\n",
    "                print('thankyou for visiting us...')\n",
    "            else:\n",
    "                print('Enter valid choice')\n",
    "\n",
    "    def sign_in(self):\n",
    "        self.username = input('\\n\\nEnter your username: ')\n",
    "        self.password = input('Enter your password: ')\n",
    "        if user.check_password(self.username, self.password):\n",
    "            print('Password validated')\n",
    "            self.id = user.get_id(self.username)  # Store as instance variable\n",
    "            c=car.Cars(self.id)\n",
    "        else:\n",
    "            print('Incorrect password')\n",
    "    \n",
    "    def sign_up(self):\n",
    "        try:\n",
    "            self.userid = input('\\n\\nEnter your userid: ')\n",
    "            if user.checkuser(self.userid):\n",
    "                for _ in range(5):\n",
    "                    password = input('Create your password: ')\n",
    "                    pwd = input('Confirm your password: ')\n",
    "                    if password == pwd and ' ' not in pwd and pwd != '':\n",
    "                        self.password = password\n",
    "                        break\n",
    "                    else:\n",
    "                        print('Invalid password. Please try again.')\n",
    "                else:\n",
    "                    print('Please try again later.')\n",
    "                    return\n",
    "                user.signup(self.userid, self.password)\n",
    "                print(\"Sign-up Successful\")\n",
    "                self.sign_in()\n",
    "            else:\n",
    "                raise Exception('User already exists')\n",
    "        except Exception as e:\n",
    "            print(e)\n",
    "            self.sign_up()\n",
    "\n",
    "m=Main()"
   ]
  },
  {
   "cell_type": "markdown",
   "id": "1e7cbcac-8dea-44d4-a345-eb40b3410afa",
   "metadata": {},
   "source": [
    "## "
   ]
  },
  {
   "cell_type": "code",
   "execution_count": null,
   "id": "9dba086c-5d61-4dd4-8e45-9e08de460efd",
   "metadata": {},
   "outputs": [],
   "source": []
  }
 ],
 "metadata": {
  "kernelspec": {
   "display_name": "Python 3 (ipykernel)",
   "language": "python",
   "name": "python3"
  },
  "language_info": {
   "codemirror_mode": {
    "name": "ipython",
    "version": 3
   },
   "file_extension": ".py",
   "mimetype": "text/x-python",
   "name": "python",
   "nbconvert_exporter": "python",
   "pygments_lexer": "ipython3",
   "version": "3.12.7"
  }
 },
 "nbformat": 4,
 "nbformat_minor": 5
}
